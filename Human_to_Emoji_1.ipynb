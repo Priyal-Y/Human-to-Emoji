{
  "nbformat": 4,
  "nbformat_minor": 0,
  "metadata": {
    "colab": {
      "name": "Human to Emoji 1.ipynb",
      "provenance": [],
      "authorship_tag": "ABX9TyOyO0/bIOPpOIxnU4NJg6+e",
      "include_colab_link": true
    },
    "kernelspec": {
      "name": "python3",
      "display_name": "Python 3"
    },
    "language_info": {
      "name": "python"
    }
  },
  "cells": [
    {
      "cell_type": "markdown",
      "metadata": {
        "id": "view-in-github",
        "colab_type": "text"
      },
      "source": [
        "<a href=\"https://colab.research.google.com/github/Priyal-Y/Human-to-Emoji/blob/main/Human_to_Emoji_1.ipynb\" target=\"_parent\"><img src=\"https://colab.research.google.com/assets/colab-badge.svg\" alt=\"Open In Colab\"/></a>"
      ]
    },
    {
      "cell_type": "code",
      "execution_count": null,
      "metadata": {
        "id": "ndaKF8PXNmWy"
      },
      "outputs": [],
      "source": [
        ""
      ]
    }
  ]
}